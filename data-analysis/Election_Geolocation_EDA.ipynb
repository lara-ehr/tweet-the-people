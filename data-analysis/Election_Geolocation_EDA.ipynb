{
 "cells": [
  {
   "cell_type": "markdown",
   "metadata": {},
   "source": [
    "# Election Tweets: Geolocation"
   ]
  },
  {
   "cell_type": "markdown",
   "metadata": {},
   "source": [
    "To understand just how real the \"red state/blue state\" divide is on the tweet level, I need some geolocation data. Since only very few users (<2%) activate the geotagging feature on their user accounts, I'll need to get this information from other sources. I decided to extract this info from people's self-reported location (in their user profile), but now I want to see what the data looks like and what information I can extract to put towards modelling."
   ]
  },
  {
   "cell_type": "code",
   "execution_count": 40,
   "metadata": {},
   "outputs": [],
   "source": [
    "import pandas as pd\n",
    "\n",
    "import warnings\n",
    "warnings.filterwarnings('ignore')"
   ]
  },
  {
   "cell_type": "code",
   "execution_count": 41,
   "metadata": {},
   "outputs": [],
   "source": [
    "tweets = pd.read_csv('/Users/laraehrenhofer/Documents/Coding_Projects/git_repos/tweet-the-people-legacy/data/tweet_pg.csv')"
   ]
  },
  {
   "cell_type": "markdown",
   "metadata": {},
   "source": [
    "## Step 1: Understanding geolocation by numbers\n",
    "\n",
    "Some introductory questions:\n",
    "- How many tweets have geotagged location vs. location based on profile info?\n",
    "- Where are most tweets located?\n",
    "- Any differences by Republican/Democrat ticket?"
   ]
  },
  {
   "cell_type": "markdown",
   "metadata": {},
   "source": [
    "### Geotagged vs. profile geolocation"
   ]
  },
  {
   "cell_type": "markdown",
   "metadata": {},
   "source": [
    "Some basic cleanup is necessary as some of these locations were generated in development versions of the tweet streaming script."
   ]
  },
  {
   "cell_type": "code",
   "execution_count": 134,
   "metadata": {},
   "outputs": [],
   "source": [
    "loc_no = pd.DataFrame(tweets.groupby(['loc_type', 'ticket']).count()['tweet_id']).unstack()"
   ]
  },
  {
   "cell_type": "code",
   "execution_count": 135,
   "metadata": {},
   "outputs": [],
   "source": [
    "keep_rows = ['bound_box_coords', 'no_loc', 'user_loc']\n",
    "drop_rows = [column for column in loc_no.index.values if column not in keep_rows]"
   ]
  },
  {
   "cell_type": "code",
   "execution_count": 136,
   "metadata": {},
   "outputs": [],
   "source": [
    "loc_no = loc_no.drop(drop_rows, axis=0)\n",
    "loc_no = pd.DataFrame(loc_no.to_records())\n",
    "loc_no.columns = ['loc_type', 'Democrat', 'Republican']\n",
    "loc_no['total'] = loc_no['Democrat'] + loc_no['Republican']"
   ]
  },
  {
   "cell_type": "code",
   "execution_count": 137,
   "metadata": {},
   "outputs": [],
   "source": [
    "def get_ticket_percent(data, ticket):\n",
    "    colname_total = f'percent_of_total_{ticket}'\n",
    "    colname_ticket = f'percent_of_ticket_{ticket}'\n",
    "    data[colname_total] = data[ticket].apply(lambda x: round((x/sum(data['total']))*100, 2))\n",
    "    data[colname_ticket] = data[ticket].apply(lambda x: round((x/sum(data[ticket]))*100, 2))\n",
    "    return data"
   ]
  },
  {
   "cell_type": "code",
   "execution_count": 138,
   "metadata": {},
   "outputs": [],
   "source": [
    "tickets = ['Democrat', 'Republican']\n",
    "\n",
    "for ticket in tickets:\n",
    "    loc_no = get_ticket_percent(loc_no, ticket)"
   ]
  },
  {
   "cell_type": "code",
   "execution_count": 142,
   "metadata": {},
   "outputs": [],
   "source": [
    "loc_no['total_percent'] = loc_no['total'].apply(lambda x: round((x/sum(loc_no['total']))*100, 2))"
   ]
  },
  {
   "cell_type": "code",
   "execution_count": 143,
   "metadata": {},
   "outputs": [
    {
     "data": {
      "text/html": [
       "<div>\n",
       "<style scoped>\n",
       "    .dataframe tbody tr th:only-of-type {\n",
       "        vertical-align: middle;\n",
       "    }\n",
       "\n",
       "    .dataframe tbody tr th {\n",
       "        vertical-align: top;\n",
       "    }\n",
       "\n",
       "    .dataframe thead th {\n",
       "        text-align: right;\n",
       "    }\n",
       "</style>\n",
       "<table border=\"1\" class=\"dataframe\">\n",
       "  <thead>\n",
       "    <tr style=\"text-align: right;\">\n",
       "      <th></th>\n",
       "      <th>loc_type</th>\n",
       "      <th>Democrat</th>\n",
       "      <th>Republican</th>\n",
       "      <th>total</th>\n",
       "      <th>percent_of_total_Democrat</th>\n",
       "      <th>percent_of_ticket_Democrat</th>\n",
       "      <th>percent_of_total_Republican</th>\n",
       "      <th>percent_of_ticket_Republican</th>\n",
       "      <th>total_percent</th>\n",
       "    </tr>\n",
       "  </thead>\n",
       "  <tbody>\n",
       "    <tr>\n",
       "      <th>0</th>\n",
       "      <td>bound_box_coords</td>\n",
       "      <td>851.0</td>\n",
       "      <td>401.0</td>\n",
       "      <td>1252.0</td>\n",
       "      <td>0.27</td>\n",
       "      <td>0.45</td>\n",
       "      <td>0.13</td>\n",
       "      <td>0.31</td>\n",
       "      <td>0.40</td>\n",
       "    </tr>\n",
       "    <tr>\n",
       "      <th>1</th>\n",
       "      <td>no_loc</td>\n",
       "      <td>78283.0</td>\n",
       "      <td>50747.0</td>\n",
       "      <td>129030.0</td>\n",
       "      <td>24.75</td>\n",
       "      <td>41.53</td>\n",
       "      <td>16.04</td>\n",
       "      <td>39.70</td>\n",
       "      <td>40.79</td>\n",
       "    </tr>\n",
       "    <tr>\n",
       "      <th>2</th>\n",
       "      <td>user_loc</td>\n",
       "      <td>109385.0</td>\n",
       "      <td>76665.0</td>\n",
       "      <td>186050.0</td>\n",
       "      <td>34.58</td>\n",
       "      <td>58.02</td>\n",
       "      <td>24.24</td>\n",
       "      <td>59.98</td>\n",
       "      <td>58.81</td>\n",
       "    </tr>\n",
       "  </tbody>\n",
       "</table>\n",
       "</div>"
      ],
      "text/plain": [
       "           loc_type  Democrat  Republican     total  \\\n",
       "0  bound_box_coords     851.0       401.0    1252.0   \n",
       "1            no_loc   78283.0     50747.0  129030.0   \n",
       "2          user_loc  109385.0     76665.0  186050.0   \n",
       "\n",
       "   percent_of_total_Democrat  percent_of_ticket_Democrat  \\\n",
       "0                       0.27                        0.45   \n",
       "1                      24.75                       41.53   \n",
       "2                      34.58                       58.02   \n",
       "\n",
       "   percent_of_total_Republican  percent_of_ticket_Republican  total_percent  \n",
       "0                         0.13                          0.31           0.40  \n",
       "1                        16.04                         39.70          40.79  \n",
       "2                        24.24                         59.98          58.81  "
      ]
     },
     "execution_count": 143,
     "metadata": {},
     "output_type": "execute_result"
    }
   ],
   "source": [
    "loc_no"
   ]
  },
  {
   "cell_type": "markdown",
   "metadata": {},
   "source": [
    "#### Conclusions\n",
    "\n",
    "1. Less than half a percent of this tweet database has geotagged location data.\n",
    "2. 40% has no location at all.\n",
    "3. Between geotagging and user profile location data, we still have close to 60% of the dataset available.\n",
    "4. The fact of there being more Democrat than Republican tweets overall makes it initially look like there's a partisan divide in terms of people's provision of geolocation data (looking at the `percent_of_total` columns). However, breaking it down into percent by ticket suggests that there isn't an enormous contrast between the two populations after all. (Could determine further statistical information using a logistic regression here but it doesn't seem interesting enough to warrant the extra attention.)"
   ]
  },
  {
   "cell_type": "markdown",
   "metadata": {},
   "source": [
    "### Tweet locations by state"
   ]
  },
  {
   "cell_type": "code",
   "execution_count": null,
   "metadata": {},
   "outputs": [],
   "source": []
  }
 ],
 "metadata": {
  "kernelspec": {
   "display_name": "Python 3",
   "language": "python",
   "name": "python3"
  },
  "language_info": {
   "codemirror_mode": {
    "name": "ipython",
    "version": 3
   },
   "file_extension": ".py",
   "mimetype": "text/x-python",
   "name": "python",
   "nbconvert_exporter": "python",
   "pygments_lexer": "ipython3",
   "version": "3.7.6"
  }
 },
 "nbformat": 4,
 "nbformat_minor": 4
}
