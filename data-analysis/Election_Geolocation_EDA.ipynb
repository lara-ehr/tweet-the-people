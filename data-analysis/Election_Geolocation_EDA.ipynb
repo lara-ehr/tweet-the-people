{
 "cells": [
  {
   "cell_type": "markdown",
   "metadata": {},
   "source": [
    "# Election Tweets: Geolocation"
   ]
  },
  {
   "cell_type": "markdown",
   "metadata": {},
   "source": [
    "To understand just how real the \"red state/blue state\" divide is on the tweet level, I need some geolocation data. Since only very few users (<2%) activate the geotagging feature on their user accounts, I'll need to get this information from other sources. I decided to extract this info from people's self-reported location (in their user profile), but now I want to see what the data looks like and what information I can extract to put towards modelling."
   ]
  },
  {
   "cell_type": "code",
   "execution_count": 473,
   "metadata": {},
   "outputs": [],
   "source": [
    "import re\n",
    "import pandas as pd\n",
    "import numpy as np\n",
    "import random\n",
    "\n",
    "import seaborn as sns\n",
    "import matplotlib as plt\n",
    "\n",
    "import warnings\n",
    "warnings.filterwarnings('ignore')"
   ]
  },
  {
   "cell_type": "code",
   "execution_count": 506,
   "metadata": {},
   "outputs": [],
   "source": [
    "tweets = pd.read_csv('./tweet_newsentiment.csv')"
   ]
  },
  {
   "cell_type": "markdown",
   "metadata": {},
   "source": [
    "## Step 1: Understanding geolocation by numbers\n",
    "\n",
    "Some introductory questions:\n",
    "- How many tweets have geotagged location vs. location based on profile info?\n",
    "- Any differences by Republican/Democrat ticket?"
   ]
  },
  {
   "cell_type": "markdown",
   "metadata": {},
   "source": [
    "### Geotagged vs. profile geolocation"
   ]
  },
  {
   "cell_type": "markdown",
   "metadata": {},
   "source": [
    "Some basic cleanup is necessary as some of these locations were generated in development versions of the tweet streaming script."
   ]
  },
  {
   "cell_type": "code",
   "execution_count": 343,
   "metadata": {},
   "outputs": [],
   "source": [
    "loc_no = pd.DataFrame(tweets.groupby(['loc_type', 'ticket']).count()['tweet_id']).unstack()"
   ]
  },
  {
   "cell_type": "code",
   "execution_count": 344,
   "metadata": {},
   "outputs": [],
   "source": [
    "keep_rows = ['bound_box_coords', 'no_loc', 'user_loc', 'geo_loc']\n",
    "drop_rows = [column for column in loc_no.index.values if column not in keep_rows]"
   ]
  },
  {
   "cell_type": "code",
   "execution_count": 345,
   "metadata": {},
   "outputs": [],
   "source": [
    "loc_no = loc_no.drop(drop_rows, axis=0)\n",
    "loc_no = pd.DataFrame(loc_no.to_records())\n",
    "loc_no.columns = ['loc_type', 'Democrat', 'Republican']\n",
    "loc_no['total'] = loc_no['Democrat'] + loc_no['Republican']"
   ]
  },
  {
   "cell_type": "code",
   "execution_count": 346,
   "metadata": {},
   "outputs": [],
   "source": [
    "def get_ticket_percent(data, ticket):\n",
    "    colname_total = f'percent_of_total_{ticket}'\n",
    "    colname_ticket = f'percent_of_ticket_{ticket}'\n",
    "    data[colname_total] = data[ticket].apply(lambda x: round((x/sum(data['total']))*100, 2))\n",
    "    data[colname_ticket] = data[ticket].apply(lambda x: round((x/sum(data[ticket]))*100, 2))\n",
    "    return data"
   ]
  },
  {
   "cell_type": "code",
   "execution_count": 347,
   "metadata": {},
   "outputs": [],
   "source": [
    "tickets = ['Democrat', 'Republican']\n",
    "\n",
    "for ticket in tickets:\n",
    "    loc_no = get_ticket_percent(loc_no, ticket)"
   ]
  },
  {
   "cell_type": "code",
   "execution_count": 348,
   "metadata": {},
   "outputs": [],
   "source": [
    "loc_no['total_percent'] = loc_no['total'].apply(lambda x: round((x/sum(loc_no['total']))*100, 2))"
   ]
  },
  {
   "cell_type": "code",
   "execution_count": 349,
   "metadata": {},
   "outputs": [
    {
     "data": {
      "text/html": [
       "<div>\n",
       "<style scoped>\n",
       "    .dataframe tbody tr th:only-of-type {\n",
       "        vertical-align: middle;\n",
       "    }\n",
       "\n",
       "    .dataframe tbody tr th {\n",
       "        vertical-align: top;\n",
       "    }\n",
       "\n",
       "    .dataframe thead th {\n",
       "        text-align: right;\n",
       "    }\n",
       "</style>\n",
       "<table border=\"1\" class=\"dataframe\">\n",
       "  <thead>\n",
       "    <tr style=\"text-align: right;\">\n",
       "      <th></th>\n",
       "      <th>loc_type</th>\n",
       "      <th>Democrat</th>\n",
       "      <th>Republican</th>\n",
       "      <th>total</th>\n",
       "      <th>percent_of_total_Democrat</th>\n",
       "      <th>percent_of_ticket_Democrat</th>\n",
       "      <th>percent_of_total_Republican</th>\n",
       "      <th>percent_of_ticket_Republican</th>\n",
       "      <th>total_percent</th>\n",
       "    </tr>\n",
       "  </thead>\n",
       "  <tbody>\n",
       "    <tr>\n",
       "      <th>0</th>\n",
       "      <td>bound_box_coords</td>\n",
       "      <td>851.0</td>\n",
       "      <td>401.0</td>\n",
       "      <td>1252.0</td>\n",
       "      <td>0.27</td>\n",
       "      <td>0.45</td>\n",
       "      <td>0.13</td>\n",
       "      <td>0.31</td>\n",
       "      <td>0.40</td>\n",
       "    </tr>\n",
       "    <tr>\n",
       "      <th>1</th>\n",
       "      <td>geo_loc</td>\n",
       "      <td>12.0</td>\n",
       "      <td>3.0</td>\n",
       "      <td>15.0</td>\n",
       "      <td>0.00</td>\n",
       "      <td>0.01</td>\n",
       "      <td>0.00</td>\n",
       "      <td>0.00</td>\n",
       "      <td>0.00</td>\n",
       "    </tr>\n",
       "    <tr>\n",
       "      <th>2</th>\n",
       "      <td>no_loc</td>\n",
       "      <td>78283.0</td>\n",
       "      <td>50747.0</td>\n",
       "      <td>129030.0</td>\n",
       "      <td>24.75</td>\n",
       "      <td>41.52</td>\n",
       "      <td>16.04</td>\n",
       "      <td>39.70</td>\n",
       "      <td>40.79</td>\n",
       "    </tr>\n",
       "    <tr>\n",
       "      <th>3</th>\n",
       "      <td>user_loc</td>\n",
       "      <td>109381.0</td>\n",
       "      <td>76660.0</td>\n",
       "      <td>186041.0</td>\n",
       "      <td>34.58</td>\n",
       "      <td>58.02</td>\n",
       "      <td>24.23</td>\n",
       "      <td>59.98</td>\n",
       "      <td>58.81</td>\n",
       "    </tr>\n",
       "  </tbody>\n",
       "</table>\n",
       "</div>"
      ],
      "text/plain": [
       "           loc_type  Democrat  Republican     total  \\\n",
       "0  bound_box_coords     851.0       401.0    1252.0   \n",
       "1           geo_loc      12.0         3.0      15.0   \n",
       "2            no_loc   78283.0     50747.0  129030.0   \n",
       "3          user_loc  109381.0     76660.0  186041.0   \n",
       "\n",
       "   percent_of_total_Democrat  percent_of_ticket_Democrat  \\\n",
       "0                       0.27                        0.45   \n",
       "1                       0.00                        0.01   \n",
       "2                      24.75                       41.52   \n",
       "3                      34.58                       58.02   \n",
       "\n",
       "   percent_of_total_Republican  percent_of_ticket_Republican  total_percent  \n",
       "0                         0.13                          0.31           0.40  \n",
       "1                         0.00                          0.00           0.00  \n",
       "2                        16.04                         39.70          40.79  \n",
       "3                        24.23                         59.98          58.81  "
      ]
     },
     "execution_count": 349,
     "metadata": {},
     "output_type": "execute_result"
    }
   ],
   "source": [
    "loc_no"
   ]
  },
  {
   "cell_type": "markdown",
   "metadata": {},
   "source": [
    "#### Conclusions\n",
    "\n",
    "1. Less than half a percent of this tweet database has 'ground-truth' geotagged location data.\n",
    "2. 40% has no location at all.\n",
    "3. But between geotagging and user profile location data, we still have close to 60% of the dataset available.\n",
    "4. Initially it looks like there's a partisan divide in terms of people's provision of geolocation data (looking at the `percent_of_total` columns). However, breaking it down into percent by ticket suggests that there isn't an enormous contrast between the two populations after all, this is just an artefact of there being slightly more Democrat than Republican tweets overall. (Could determine further statistical information concerning probability of having a location based on ticket using a logistic regression here but it doesn't seem interesting enough to warrant the extra attention.)"
   ]
  },
  {
   "cell_type": "markdown",
   "metadata": {},
   "source": [
    "## Step 2: Quality check\n",
    "\n",
    "I used the `geocoder` package to get over 42k locations based on people's user profiles. While some folks' self-reported location is plausible (\"Milwaukee-Chicago\"), other locations are less straightforward to map onto real-world locations (\"Marvel Universe\", \"hell since 2016\", \"God's Country\", \"Always butter the Pan\"). What did `geocoder` make of these less plausible locations?\n",
    "\n",
    "How to check: Sample 1000 locations and manually check. (I want a GUI for this and am doing it in good old Excel.)\n",
    "- What proportion of these is a joke location? This will help us get a sense of the amount of noise in the data.\n",
    "- What does `geocoder` make of the joke locations?"
   ]
  },
  {
   "cell_type": "code",
   "execution_count": 164,
   "metadata": {},
   "outputs": [
    {
     "data": {
      "text/plain": [
       "45219"
      ]
     },
     "execution_count": 164,
     "metadata": {},
     "output_type": "execute_result"
    }
   ],
   "source": [
    "list_locs = list(tweets['location'].unique())\n",
    "len(list_locs)"
   ]
  },
  {
   "cell_type": "code",
   "execution_count": 324,
   "metadata": {},
   "outputs": [],
   "source": [
    "# separate out just the tweets that have a profile-based location\n",
    "\n",
    "loc_tweets = tweets[tweets['loc_type'] == 'user_loc']"
   ]
  },
  {
   "cell_type": "code",
   "execution_count": 326,
   "metadata": {},
   "outputs": [],
   "source": [
    "loc_sample = loc_tweets.sample(n=1000)"
   ]
  },
  {
   "cell_type": "code",
   "execution_count": 328,
   "metadata": {},
   "outputs": [],
   "source": [
    "loc_sample = loc_sample.drop([column for column in loc_sample.columns if column not in ['location', 'loc_type', 'us_state', 'loc_lat', 'loc_lon']], axis=1)\n",
    "loc_sample.to_csv('./location_random_sample.csv', index=False)"
   ]
  },
  {
   "attachments": {},
   "cell_type": "markdown",
   "metadata": {},
   "source": [
    "**Manual data annotation of random sample:**\n",
    "\n",
    "1. Binary manual classification into feature `unclear_loc` (0, 1). Some examples of `unclear_loc == 1` in this particular sample:\n",
    "    - a `location: Right now? Arkansas`\n",
    "    - b `Earth`\n",
    "    - c `In Trump's Nightmares`\n",
    "    - d `COviNGTON va BAbY!!!!`\n",
    "    - e `Nicht Bielefeld`\n",
    "    - f `None of your business`\n",
    "    - g `NoVa`\n",
    "    - h `The Dirty South-GA`\n",
    "2. Binary manual classification into feature `implausible_assigned_loc` (0, 1). My highly subjective criteria were:\n",
    "    - `implausible_assigned_loc == 0`: if `geocoder` managed to get correct information out of an unclear location (e.g. assigning location `Arkansas` to example a, `Virginia` to example d), or classifies it as `other` (e.g. assigning `other` to example e).\n",
    "    - `implausible_assigned_loc == 1`: odder assignments get a rating of 1, e.g. assigning location b to Texas, c to Maryland, f to Washington, or g to Ohio (\"NoVa\" is short for Northern Virginia), or failing to get location information where technically present (e.g. assigning `other` to example h).\n",
    "    \n",
    "**Next up:** let's get a sense of the scale of the noise.\n",
    "1. What percentage of locations are unclear?\n",
    "2. Of these, what percentage are implausible and therefore likely erroneous?\n",
    "3. What's the likely percentage of erroneous assignments overall?\n",
    "\n",
    "**Update:** adding 2nd sample for higher accuracy."
   ]
  },
  {
   "cell_type": "code",
   "execution_count": 329,
   "metadata": {},
   "outputs": [],
   "source": [
    "loc_sample_annotated1 = pd.read_csv('./location_random_sample_13012021.csv')\n",
    "loc_sample_annotated2 = pd.read_csv('./location_random_sample_withhashtags_14012021.csv')"
   ]
  },
  {
   "cell_type": "code",
   "execution_count": 332,
   "metadata": {},
   "outputs": [],
   "source": [
    "loc_sample_annotated1['hashtags'] = np.nan"
   ]
  },
  {
   "cell_type": "code",
   "execution_count": 334,
   "metadata": {},
   "outputs": [],
   "source": [
    "loc_sample_annotated = pd.concat([loc_sample_annotated1, loc_sample_annotated2], axis=0)"
   ]
  },
  {
   "cell_type": "code",
   "execution_count": 336,
   "metadata": {},
   "outputs": [
    {
     "data": {
      "text/plain": [
       "19.6"
      ]
     },
     "execution_count": 336,
     "metadata": {},
     "output_type": "execute_result"
    }
   ],
   "source": [
    "percent_unclear = (sum(loc_sample_annotated['unclear_loc'])/len(loc_sample_annotated))*100\n",
    "percent_unclear"
   ]
  },
  {
   "cell_type": "code",
   "execution_count": 337,
   "metadata": {},
   "outputs": [
    {
     "data": {
      "text/plain": [
       "40.816326530612244"
      ]
     },
     "execution_count": 337,
     "metadata": {},
     "output_type": "execute_result"
    }
   ],
   "source": [
    "percent_implausible = (sum(loc_sample_annotated['implausible_assigned_loc'])/len(loc_sample_annotated[loc_sample_annotated['unclear_loc'] == 1]))*100\n",
    "percent_implausible"
   ]
  },
  {
   "cell_type": "code",
   "execution_count": 338,
   "metadata": {},
   "outputs": [
    {
     "data": {
      "text/plain": [
       "8.0"
      ]
     },
     "execution_count": 338,
     "metadata": {},
     "output_type": "execute_result"
    }
   ],
   "source": [
    "percent_erroneous_total = (sum(loc_sample_annotated['implausible_assigned_loc'])/len(loc_sample_annotated))*100\n",
    "percent_erroneous_total"
   ]
  },
  {
   "cell_type": "markdown",
   "metadata": {},
   "source": [
    "#### Conclusions from manual data quality check\n",
    "\n",
    "In this sample, nearly one-fifth of locations were unclear; 40% of those were not assigned a correct location by `geocoder`. Overall, this results in an 8% rate of poor location information.\n",
    "\n",
    "On the flip side, that's over 90% accuracy in `geocoder`'s ability to detect a user's location!\n",
    "\n",
    "**How can we use this to predict location for tweets that didn't include user location?**\n",
    "\n",
    "Options from various domains (which could also help impute missing location data for the users who provided none at all):\n",
    "\n",
    "1. **Hashtag tracking:** If the tweet contains a hashtag, in which state is this hashtag most popular?\n",
    "    - Given a particular hashtag, what's the likelihood of it being tweeted from a specific state? Or at a somewhat zoomed out level, from a red or blue state (rather than the exact state)?\n",
    "    - Predict the state from hashtags?\n",
    "        - This is somewhat risky, as the model will be learning from data whose labelling is only 92% accurate.\n",
    "        - To avoid the problems with poorly annotated data: Are there enough geotagged tweets containing hashtags in order to build a  model restricted to just this data subset, and then extrapolate from there to the wider dataset?\n",
    "            - Can we augment this data set through human-annotated reference samples?\n",
    "        - Otherwise: If we accept the 8% noise factor, can we build a more robust model using all of the location data we have (from either geotagging or user profile info) and use it to extrapolate to tweets that didn't have a user location?\n",
    "        - Note: Some subset of the data that contains no location information also does not contain hashtags. How much data will be left unlabelled through this approach?\n",
    "    \n",
    "2. **Social network clustering:** Can we interpolate a user's location from the people they follow and their locations?\n",
    "    - The dataset contains tweets from >220k unique users\n",
    "    - Steps would be:\n",
    "        - Grab user's followed accounts (Twitter API limits this to 5k followers at a time, this seems like more than enough)\n",
    "        - Get those users' locations where possible (this will have the same problem with noise in self-reported locations)\n",
    "        - Interpolation: copy location of the account that a user most frequently interacts with? Does Twitter provide this data in some summary form? If so, is the location of a high-interaction account actually a good proxy for a user's location? (Boils down to: do people interact more with people who live close to them? Probably some do and some don't.)\n",
    "        \n",
    "        \n",
    "Given the issues with Twitter API limits, I'm going to try hashtag tracking first."
   ]
  },
  {
   "cell_type": "markdown",
   "metadata": {},
   "source": [
    "## Step 3: Location Interpolation Using Hashtags\n",
    "\n",
    "Logic/assumptions for this interpolation model:\n",
    "\n",
    "1. Sentiment is correlated with geolocation.\n",
    "    - Pro-Trump hashtagged tweets are likely to come from pro-Trump states.\n",
    "2. Hashtags are correlated with partisan sentiment.\n",
    "    - Hashtags were stripped out of tweets before sentiment analysis, so there's no risk of a confound.\n",
    "    - E.g. pro-Trump partisan tweets (= high sentiment, about Trump) are likely to be clustered around certain hashtags.\n",
    "3. Therefore, hashtag predicts location.\n",
    "\n",
    "\n",
    "Building the model:\n",
    "- Training and testing the model: I'll use the ground-truthed data that I have from the geotagged tweets. Since this is an extremely small data set, I'll augment with a fresh batch of human-annotated data.\n",
    "- Model type: LogReg classifier that predicts red state/blue state/lean red/lean blue based on hashtag feature\n",
    "- Geolocation based on user profile was over 90% accurate. If I can build a model that reaches 80% accuracy of predicting location from hashtags, I'll be happy.\n",
    "    - Lower threshold chosen because of the Poisson distribution in hashtag frequency, meaning that while some hashtags will have high degree of correlation with location (e.g. #StopTheSteal) less frequent ones will be noisier."
   ]
  },
  {
   "cell_type": "markdown",
   "metadata": {},
   "source": [
    "### Checking assumption 1: Does partisanship correlate with location?\n",
    "\n",
    "Definition of partisanship for the purposes of this analysis:\n",
    "- If a tweet's sentiment is above the average daily score for tweets about a particular ticket, it is pro that ticket. If it's below the average, it's anti that ticket.\n",
    "    - Example: a tweet about Donald Trump that has a sentiment of 0.7 on a day when the average sentiment of Trump-related tweets is 0.2 has a partisan lean of 0.5 in Trump's favour.\n",
    "- This is essentially within-group normalisation.\n",
    "\n",
    "Location partisanship:\n",
    "- I'm going to add data from the 2020 election highlighting who won each state and by how much.\n",
    "\n",
    "#### Partisanship & Normalisation\n",
    "\n",
    "Start by checking distribution of sentiment."
   ]
  },
  {
   "cell_type": "code",
   "execution_count": 350,
   "metadata": {},
   "outputs": [],
   "source": [
    "dem = tweets[tweets['ticket']=='Democrat']\n",
    "rep = tweets[tweets['ticket']=='Republican']"
   ]
  },
  {
   "cell_type": "code",
   "execution_count": 351,
   "metadata": {},
   "outputs": [],
   "source": [
    "dem_sent = dem['sentiment']\n",
    "rep_sent = rep['sentiment']"
   ]
  },
  {
   "cell_type": "code",
   "execution_count": 355,
   "metadata": {},
   "outputs": [
    {
     "name": "stdout",
     "output_type": "stream",
     "text": [
      "0.08297533965880474 0.004220808850566574\n"
     ]
    }
   ],
   "source": [
    "print(dem_sent.mean(), rep_sent.mean())"
   ]
  },
  {
   "cell_type": "code",
   "execution_count": 354,
   "metadata": {},
   "outputs": [
    {
     "data": {
      "text/plain": [
       "<matplotlib.axes._subplots.AxesSubplot at 0x1345fa190>"
      ]
     },
     "execution_count": 354,
     "metadata": {},
     "output_type": "execute_result"
    },
    {
     "data": {
      "image/png": "[encoded data removed]",
      "text/plain": [
       "<Figure size 432x288 with 1 Axes>"
      ]
     },
     "metadata": {
      "needs_background": "light"
     },
     "output_type": "display_data"
    }
   ],
   "source": [
    "sns.distplot(dem_sent, color='skyblue', kde=False)\n",
    "sns.distplot(rep_sent, color='red', kde=False)"
   ]
  },
  {
   "cell_type": "markdown",
   "metadata": {},
   "source": [
    "**Upshot of distribution check:**\n",
    "\n",
    "Looks like the sentiment is distributed fairly evenly across the two tickets. This makes sense, as there are likely to be roughly equal numbers of pro and anti Republican/Democrat tweets.\n",
    "\n",
    "Normalising within daily means: let's see what the distributions show now.\n",
    "\n",
    "Interpreting the new `partisan_lean` feature:\n",
    "- the more positive the value, the more pro-that particular ticket\n",
    "- so this is a measure of partisanship."
   ]
  },
  {
   "cell_type": "code",
   "execution_count": 507,
   "metadata": {},
   "outputs": [],
   "source": [
    "tweets['dailymeansentiment'] = tweets.groupby(['ticket', 'date'])['sentiment_2'].transform('mean')"
   ]
  },
  {
   "cell_type": "code",
   "execution_count": 508,
   "metadata": {},
   "outputs": [],
   "source": [
    "tweets['partisan_lean'] = tweets['sentiment_2'] - tweets['dailymeansentiment']"
   ]
  },
  {
   "cell_type": "code",
   "execution_count": 509,
   "metadata": {},
   "outputs": [
    {
     "data": {
      "text/plain": [
       "<matplotlib.axes._subplots.AxesSubplot at 0x141c8fb90>"
      ]
     },
     "execution_count": 509,
     "metadata": {},
     "output_type": "execute_result"
    },
    {
     "data": {
      "image/png": "[encoded data removed]",
      "text/plain": [
       "<Figure size 432x288 with 1 Axes>"
      ]
     },
     "metadata": {
      "needs_background": "light"
     },
     "output_type": "display_data"
    }
   ],
   "source": [
    "# plot distribution of partisan lean\n",
    "\n",
    "sns.distplot(tweets['partisan_lean'], color='green', kde=False)"
   ]
  },
  {
   "cell_type": "markdown",
   "metadata": {},
   "source": [
    "**Upshot:**\n",
    "\n",
    "We're getting a bimodal distribution with a huge spike of neutrals (due to the large number of tweets rated 0).\n",
    "\n",
    "Now let's check if there's some correlation of partisanship and location.\n",
    "\n",
    "#### Add election outcome data\n",
    "\n",
    "We'll use this to sort states into red, blue, lean red and lean blue categories, where:\n",
    "\n",
    "- A vote margin of <10% results in a \"lean\" classification\n",
    "- A vote margin of >10% results in a \"red/blue\" classification"
   ]
  },
  {
   "cell_type": "code",
   "execution_count": 496,
   "metadata": {},
   "outputs": [],
   "source": [
    "election_url = 'https://raw.githubusercontent.com/tonmcg/US_County_Level_Election_Results_08-20/master/2020_US_County_Level_Presidential_Results.csv'\n",
    "\n",
    "election_counties = pd.read_csv(election_url)"
   ]
  },
  {
   "cell_type": "code",
   "execution_count": 497,
   "metadata": {},
   "outputs": [
    {
     "data": {
      "text/html": [
       "<div>\n",
       "<style scoped>\n",
       "    .dataframe tbody tr th:only-of-type {\n",
       "        vertical-align: middle;\n",
       "    }\n",
       "\n",
       "    .dataframe tbody tr th {\n",
       "        vertical-align: top;\n",
       "    }\n",
       "\n",
       "    .dataframe thead th {\n",
       "        text-align: right;\n",
       "    }\n",
       "</style>\n",
       "<table border=\"1\" class=\"dataframe\">\n",
       "  <thead>\n",
       "    <tr style=\"text-align: right;\">\n",
       "      <th></th>\n",
       "      <th>state_name</th>\n",
       "      <th>county_fips</th>\n",
       "      <th>county_name</th>\n",
       "      <th>votes_gop</th>\n",
       "      <th>votes_dem</th>\n",
       "      <th>total_votes</th>\n",
       "      <th>diff</th>\n",
       "      <th>per_gop</th>\n",
       "      <th>per_dem</th>\n",
       "      <th>per_point_diff</th>\n",
       "    </tr>\n",
       "  </thead>\n",
       "  <tbody>\n",
       "    <tr>\n",
       "      <th>0</th>\n",
       "      <td>Alabama</td>\n",
       "      <td>1001</td>\n",
       "      <td>Autauga County</td>\n",
       "      <td>19838</td>\n",
       "      <td>7503</td>\n",
       "      <td>27770</td>\n",
       "      <td>12335</td>\n",
       "      <td>0.714368</td>\n",
       "      <td>0.270184</td>\n",
       "      <td>0.444184</td>\n",
       "    </tr>\n",
       "    <tr>\n",
       "      <th>1</th>\n",
       "      <td>Alabama</td>\n",
       "      <td>1003</td>\n",
       "      <td>Baldwin County</td>\n",
       "      <td>83544</td>\n",
       "      <td>24578</td>\n",
       "      <td>109679</td>\n",
       "      <td>58966</td>\n",
       "      <td>0.761714</td>\n",
       "      <td>0.224090</td>\n",
       "      <td>0.537623</td>\n",
       "    </tr>\n",
       "    <tr>\n",
       "      <th>2</th>\n",
       "      <td>Alabama</td>\n",
       "      <td>1005</td>\n",
       "      <td>Barbour County</td>\n",
       "      <td>5622</td>\n",
       "      <td>4816</td>\n",
       "      <td>10518</td>\n",
       "      <td>806</td>\n",
       "      <td>0.534512</td>\n",
       "      <td>0.457882</td>\n",
       "      <td>0.076631</td>\n",
       "    </tr>\n",
       "    <tr>\n",
       "      <th>3</th>\n",
       "      <td>Alabama</td>\n",
       "      <td>1007</td>\n",
       "      <td>Bibb County</td>\n",
       "      <td>7525</td>\n",
       "      <td>1986</td>\n",
       "      <td>9595</td>\n",
       "      <td>5539</td>\n",
       "      <td>0.784263</td>\n",
       "      <td>0.206983</td>\n",
       "      <td>0.577280</td>\n",
       "    </tr>\n",
       "    <tr>\n",
       "      <th>4</th>\n",
       "      <td>Alabama</td>\n",
       "      <td>1009</td>\n",
       "      <td>Blount County</td>\n",
       "      <td>24711</td>\n",
       "      <td>2640</td>\n",
       "      <td>27588</td>\n",
       "      <td>22071</td>\n",
       "      <td>0.895716</td>\n",
       "      <td>0.095694</td>\n",
       "      <td>0.800022</td>\n",
       "    </tr>\n",
       "  </tbody>\n",
       "</table>\n",
       "</div>"
      ],
      "text/plain": [
       "  state_name  county_fips     county_name  votes_gop  votes_dem  total_votes  \\\n",
       "0    Alabama         1001  Autauga County      19838       7503        27770   \n",
       "1    Alabama         1003  Baldwin County      83544      24578       109679   \n",
       "2    Alabama         1005  Barbour County       5622       4816        10518   \n",
       "3    Alabama         1007     Bibb County       7525       1986         9595   \n",
       "4    Alabama         1009   Blount County      24711       2640        27588   \n",
       "\n",
       "    diff   per_gop   per_dem  per_point_diff  \n",
       "0  12335  0.714368  0.270184        0.444184  \n",
       "1  58966  0.761714  0.224090        0.537623  \n",
       "2    806  0.534512  0.457882        0.076631  \n",
       "3   5539  0.784263  0.206983        0.577280  \n",
       "4  22071  0.895716  0.095694        0.800022  "
      ]
     },
     "execution_count": 497,
     "metadata": {},
     "output_type": "execute_result"
    }
   ],
   "source": [
    "election_counties.head()"
   ]
  },
  {
   "cell_type": "code",
   "execution_count": 498,
   "metadata": {},
   "outputs": [],
   "source": [
    "election_states = election_counties.groupby('state_name')[['total_votes', 'votes_gop', 'votes_dem']].sum().reset_index()"
   ]
  },
  {
   "cell_type": "code",
   "execution_count": 499,
   "metadata": {},
   "outputs": [],
   "source": [
    "# calculate vote margins within each state based on total vote numbers.\n",
    "\n",
    "election_states['per_gop'] = election_states['votes_gop']/election_states['total_votes']\n",
    "election_states['per_dem'] = election_states['votes_dem']/election_states['total_votes']\n",
    "election_states['per_point_diff'] = election_states['per_gop'] - election_states['per_dem']"
   ]
  },
  {
   "cell_type": "code",
   "execution_count": 500,
   "metadata": {},
   "outputs": [],
   "source": [
    "state_types = ['blue', 'lean_blue', 'lean_red', 'red']"
   ]
  },
  {
   "cell_type": "code",
   "execution_count": 501,
   "metadata": {},
   "outputs": [],
   "source": [
    "election_states['redblue'] = pd.cut(election_states['per_point_diff'], bins=[-1, -0.1, 0, 0.1, 1], include_lowest=True, labels=state_types)"
   ]
  },
  {
   "cell_type": "code",
   "execution_count": 502,
   "metadata": {},
   "outputs": [
    {
     "data": {
      "text/html": [
       "<div>\n",
       "<style scoped>\n",
       "    .dataframe tbody tr th:only-of-type {\n",
       "        vertical-align: middle;\n",
       "    }\n",
       "\n",
       "    .dataframe tbody tr th {\n",
       "        vertical-align: top;\n",
       "    }\n",
       "\n",
       "    .dataframe thead th {\n",
       "        text-align: right;\n",
       "    }\n",
       "</style>\n",
       "<table border=\"1\" class=\"dataframe\">\n",
       "  <thead>\n",
       "    <tr style=\"text-align: right;\">\n",
       "      <th></th>\n",
       "      <th>state_name</th>\n",
       "      <th>total_votes</th>\n",
       "      <th>votes_gop</th>\n",
       "      <th>votes_dem</th>\n",
       "      <th>per_gop</th>\n",
       "      <th>per_dem</th>\n",
       "      <th>per_point_diff</th>\n",
       "      <th>redblue</th>\n",
       "    </tr>\n",
       "  </thead>\n",
       "  <tbody>\n",
       "    <tr>\n",
       "      <th>0</th>\n",
       "      <td>Alabama</td>\n",
       "      <td>2323304</td>\n",
       "      <td>1441168</td>\n",
       "      <td>849648</td>\n",
       "      <td>0.620310</td>\n",
       "      <td>0.365707</td>\n",
       "      <td>0.254603</td>\n",
       "      <td>red</td>\n",
       "    </tr>\n",
       "    <tr>\n",
       "      <th>1</th>\n",
       "      <td>Alaska</td>\n",
       "      <td>391346</td>\n",
       "      <td>189892</td>\n",
       "      <td>153405</td>\n",
       "      <td>0.485228</td>\n",
       "      <td>0.391993</td>\n",
       "      <td>0.093235</td>\n",
       "      <td>lean_red</td>\n",
       "    </tr>\n",
       "    <tr>\n",
       "      <th>2</th>\n",
       "      <td>Arizona</td>\n",
       "      <td>3387326</td>\n",
       "      <td>1661686</td>\n",
       "      <td>1672143</td>\n",
       "      <td>0.490560</td>\n",
       "      <td>0.493647</td>\n",
       "      <td>-0.003087</td>\n",
       "      <td>lean_blue</td>\n",
       "    </tr>\n",
       "    <tr>\n",
       "      <th>3</th>\n",
       "      <td>Arkansas</td>\n",
       "      <td>1219069</td>\n",
       "      <td>760647</td>\n",
       "      <td>423932</td>\n",
       "      <td>0.623957</td>\n",
       "      <td>0.347751</td>\n",
       "      <td>0.276207</td>\n",
       "      <td>red</td>\n",
       "    </tr>\n",
       "    <tr>\n",
       "      <th>4</th>\n",
       "      <td>California</td>\n",
       "      <td>17495906</td>\n",
       "      <td>6005961</td>\n",
       "      <td>11109764</td>\n",
       "      <td>0.343278</td>\n",
       "      <td>0.634992</td>\n",
       "      <td>-0.291714</td>\n",
       "      <td>blue</td>\n",
       "    </tr>\n",
       "    <tr>\n",
       "      <th>5</th>\n",
       "      <td>Colorado</td>\n",
       "      <td>3256953</td>\n",
       "      <td>1364607</td>\n",
       "      <td>1804352</td>\n",
       "      <td>0.418983</td>\n",
       "      <td>0.554000</td>\n",
       "      <td>-0.135017</td>\n",
       "      <td>blue</td>\n",
       "    </tr>\n",
       "    <tr>\n",
       "      <th>6</th>\n",
       "      <td>Connecticut</td>\n",
       "      <td>1824280</td>\n",
       "      <td>715291</td>\n",
       "      <td>1080680</td>\n",
       "      <td>0.392095</td>\n",
       "      <td>0.592387</td>\n",
       "      <td>-0.200292</td>\n",
       "      <td>blue</td>\n",
       "    </tr>\n",
       "    <tr>\n",
       "      <th>7</th>\n",
       "      <td>Delaware</td>\n",
       "      <td>504010</td>\n",
       "      <td>200603</td>\n",
       "      <td>296268</td>\n",
       "      <td>0.398014</td>\n",
       "      <td>0.587822</td>\n",
       "      <td>-0.189808</td>\n",
       "      <td>blue</td>\n",
       "    </tr>\n",
       "    <tr>\n",
       "      <th>8</th>\n",
       "      <td>District of Columbia</td>\n",
       "      <td>344356</td>\n",
       "      <td>18586</td>\n",
       "      <td>317323</td>\n",
       "      <td>0.053973</td>\n",
       "      <td>0.921497</td>\n",
       "      <td>-0.867524</td>\n",
       "      <td>blue</td>\n",
       "    </tr>\n",
       "    <tr>\n",
       "      <th>9</th>\n",
       "      <td>Florida</td>\n",
       "      <td>11067456</td>\n",
       "      <td>5668731</td>\n",
       "      <td>5297045</td>\n",
       "      <td>0.512198</td>\n",
       "      <td>0.478615</td>\n",
       "      <td>0.033584</td>\n",
       "      <td>lean_red</td>\n",
       "    </tr>\n",
       "    <tr>\n",
       "      <th>10</th>\n",
       "      <td>Georgia</td>\n",
       "      <td>4997716</td>\n",
       "      <td>2461854</td>\n",
       "      <td>2473633</td>\n",
       "      <td>0.492596</td>\n",
       "      <td>0.494953</td>\n",
       "      <td>-0.002357</td>\n",
       "      <td>lean_blue</td>\n",
       "    </tr>\n",
       "    <tr>\n",
       "      <th>11</th>\n",
       "      <td>Hawaii</td>\n",
       "      <td>574469</td>\n",
       "      <td>196864</td>\n",
       "      <td>366130</td>\n",
       "      <td>0.342689</td>\n",
       "      <td>0.637336</td>\n",
       "      <td>-0.294648</td>\n",
       "      <td>blue</td>\n",
       "    </tr>\n",
       "    <tr>\n",
       "      <th>12</th>\n",
       "      <td>Idaho</td>\n",
       "      <td>868105</td>\n",
       "      <td>554118</td>\n",
       "      <td>287021</td>\n",
       "      <td>0.638308</td>\n",
       "      <td>0.330629</td>\n",
       "      <td>0.307678</td>\n",
       "      <td>red</td>\n",
       "    </tr>\n",
       "    <tr>\n",
       "      <th>13</th>\n",
       "      <td>Illinois</td>\n",
       "      <td>6038850</td>\n",
       "      <td>2446891</td>\n",
       "      <td>3471915</td>\n",
       "      <td>0.405192</td>\n",
       "      <td>0.574930</td>\n",
       "      <td>-0.169738</td>\n",
       "      <td>blue</td>\n",
       "    </tr>\n",
       "    <tr>\n",
       "      <th>14</th>\n",
       "      <td>Indiana</td>\n",
       "      <td>3033198</td>\n",
       "      <td>1729852</td>\n",
       "      <td>1242495</td>\n",
       "      <td>0.570306</td>\n",
       "      <td>0.409632</td>\n",
       "      <td>0.160674</td>\n",
       "      <td>red</td>\n",
       "    </tr>\n",
       "    <tr>\n",
       "      <th>15</th>\n",
       "      <td>Iowa</td>\n",
       "      <td>1690871</td>\n",
       "      <td>897672</td>\n",
       "      <td>759061</td>\n",
       "      <td>0.530893</td>\n",
       "      <td>0.448917</td>\n",
       "      <td>0.081976</td>\n",
       "      <td>lean_red</td>\n",
       "    </tr>\n",
       "    <tr>\n",
       "      <th>16</th>\n",
       "      <td>Kansas</td>\n",
       "      <td>1349567</td>\n",
       "      <td>758100</td>\n",
       "      <td>558669</td>\n",
       "      <td>0.561736</td>\n",
       "      <td>0.413962</td>\n",
       "      <td>0.147774</td>\n",
       "      <td>red</td>\n",
       "    </tr>\n",
       "    <tr>\n",
       "      <th>17</th>\n",
       "      <td>Kentucky</td>\n",
       "      <td>2136768</td>\n",
       "      <td>1326646</td>\n",
       "      <td>772474</td>\n",
       "      <td>0.620866</td>\n",
       "      <td>0.361515</td>\n",
       "      <td>0.259351</td>\n",
       "      <td>red</td>\n",
       "    </tr>\n",
       "    <tr>\n",
       "      <th>18</th>\n",
       "      <td>Louisiana</td>\n",
       "      <td>2148062</td>\n",
       "      <td>1255776</td>\n",
       "      <td>856034</td>\n",
       "      <td>0.584609</td>\n",
       "      <td>0.398515</td>\n",
       "      <td>0.186094</td>\n",
       "      <td>red</td>\n",
       "    </tr>\n",
       "    <tr>\n",
       "      <th>19</th>\n",
       "      <td>Maine</td>\n",
       "      <td>813740</td>\n",
       "      <td>359899</td>\n",
       "      <td>430473</td>\n",
       "      <td>0.442278</td>\n",
       "      <td>0.529006</td>\n",
       "      <td>-0.086728</td>\n",
       "      <td>lean_blue</td>\n",
       "    </tr>\n",
       "    <tr>\n",
       "      <th>20</th>\n",
       "      <td>Maryland</td>\n",
       "      <td>3037030</td>\n",
       "      <td>976414</td>\n",
       "      <td>1985023</td>\n",
       "      <td>0.321503</td>\n",
       "      <td>0.653607</td>\n",
       "      <td>-0.332104</td>\n",
       "      <td>blue</td>\n",
       "    </tr>\n",
       "    <tr>\n",
       "      <th>21</th>\n",
       "      <td>Massachusetts</td>\n",
       "      <td>3631402</td>\n",
       "      <td>1167202</td>\n",
       "      <td>2382202</td>\n",
       "      <td>0.321419</td>\n",
       "      <td>0.656001</td>\n",
       "      <td>-0.334582</td>\n",
       "      <td>blue</td>\n",
       "    </tr>\n",
       "    <tr>\n",
       "      <th>22</th>\n",
       "      <td>Michigan</td>\n",
       "      <td>5539302</td>\n",
       "      <td>2649852</td>\n",
       "      <td>2804040</td>\n",
       "      <td>0.478373</td>\n",
       "      <td>0.506208</td>\n",
       "      <td>-0.027835</td>\n",
       "      <td>lean_blue</td>\n",
       "    </tr>\n",
       "    <tr>\n",
       "      <th>23</th>\n",
       "      <td>Minnesota</td>\n",
       "      <td>3277171</td>\n",
       "      <td>1484065</td>\n",
       "      <td>1717077</td>\n",
       "      <td>0.452849</td>\n",
       "      <td>0.523951</td>\n",
       "      <td>-0.071102</td>\n",
       "      <td>lean_blue</td>\n",
       "    </tr>\n",
       "    <tr>\n",
       "      <th>24</th>\n",
       "      <td>Mississippi</td>\n",
       "      <td>1315178</td>\n",
       "      <td>756764</td>\n",
       "      <td>539398</td>\n",
       "      <td>0.575408</td>\n",
       "      <td>0.410133</td>\n",
       "      <td>0.165275</td>\n",
       "      <td>red</td>\n",
       "    </tr>\n",
       "    <tr>\n",
       "      <th>25</th>\n",
       "      <td>Missouri</td>\n",
       "      <td>3025962</td>\n",
       "      <td>1718736</td>\n",
       "      <td>1253014</td>\n",
       "      <td>0.567997</td>\n",
       "      <td>0.414088</td>\n",
       "      <td>0.153909</td>\n",
       "      <td>red</td>\n",
       "    </tr>\n",
       "    <tr>\n",
       "      <th>26</th>\n",
       "      <td>Montana</td>\n",
       "      <td>605750</td>\n",
       "      <td>343602</td>\n",
       "      <td>244786</td>\n",
       "      <td>0.567234</td>\n",
       "      <td>0.404104</td>\n",
       "      <td>0.163130</td>\n",
       "      <td>red</td>\n",
       "    </tr>\n",
       "    <tr>\n",
       "      <th>27</th>\n",
       "      <td>Nebraska</td>\n",
       "      <td>956379</td>\n",
       "      <td>556846</td>\n",
       "      <td>374583</td>\n",
       "      <td>0.582244</td>\n",
       "      <td>0.391668</td>\n",
       "      <td>0.190576</td>\n",
       "      <td>red</td>\n",
       "    </tr>\n",
       "    <tr>\n",
       "      <th>28</th>\n",
       "      <td>Nevada</td>\n",
       "      <td>1405376</td>\n",
       "      <td>669890</td>\n",
       "      <td>703486</td>\n",
       "      <td>0.476662</td>\n",
       "      <td>0.500568</td>\n",
       "      <td>-0.023905</td>\n",
       "      <td>lean_blue</td>\n",
       "    </tr>\n",
       "    <tr>\n",
       "      <th>29</th>\n",
       "      <td>New Hampshire</td>\n",
       "      <td>804430</td>\n",
       "      <td>365654</td>\n",
       "      <td>424921</td>\n",
       "      <td>0.454550</td>\n",
       "      <td>0.528226</td>\n",
       "      <td>-0.073676</td>\n",
       "      <td>lean_blue</td>\n",
       "    </tr>\n",
       "    <tr>\n",
       "      <th>30</th>\n",
       "      <td>New Jersey</td>\n",
       "      <td>4564234</td>\n",
       "      <td>1883274</td>\n",
       "      <td>2608335</td>\n",
       "      <td>0.412616</td>\n",
       "      <td>0.571473</td>\n",
       "      <td>-0.158857</td>\n",
       "      <td>blue</td>\n",
       "    </tr>\n",
       "    <tr>\n",
       "      <th>31</th>\n",
       "      <td>New Mexico</td>\n",
       "      <td>923965</td>\n",
       "      <td>401894</td>\n",
       "      <td>501614</td>\n",
       "      <td>0.434967</td>\n",
       "      <td>0.542893</td>\n",
       "      <td>-0.107926</td>\n",
       "      <td>blue</td>\n",
       "    </tr>\n",
       "    <tr>\n",
       "      <th>32</th>\n",
       "      <td>New York</td>\n",
       "      <td>8616205</td>\n",
       "      <td>3250230</td>\n",
       "      <td>5244006</td>\n",
       "      <td>0.377223</td>\n",
       "      <td>0.608621</td>\n",
       "      <td>-0.231398</td>\n",
       "      <td>blue</td>\n",
       "    </tr>\n",
       "    <tr>\n",
       "      <th>33</th>\n",
       "      <td>North Carolina</td>\n",
       "      <td>5524801</td>\n",
       "      <td>2758773</td>\n",
       "      <td>2684292</td>\n",
       "      <td>0.499343</td>\n",
       "      <td>0.485862</td>\n",
       "      <td>0.013481</td>\n",
       "      <td>lean_red</td>\n",
       "    </tr>\n",
       "    <tr>\n",
       "      <th>34</th>\n",
       "      <td>North Dakota</td>\n",
       "      <td>361819</td>\n",
       "      <td>235595</td>\n",
       "      <td>114902</td>\n",
       "      <td>0.651140</td>\n",
       "      <td>0.317568</td>\n",
       "      <td>0.333573</td>\n",
       "      <td>red</td>\n",
       "    </tr>\n",
       "    <tr>\n",
       "      <th>35</th>\n",
       "      <td>Ohio</td>\n",
       "      <td>5922202</td>\n",
       "      <td>3154834</td>\n",
       "      <td>2679165</td>\n",
       "      <td>0.532713</td>\n",
       "      <td>0.452393</td>\n",
       "      <td>0.080320</td>\n",
       "      <td>lean_red</td>\n",
       "    </tr>\n",
       "    <tr>\n",
       "      <th>36</th>\n",
       "      <td>Oklahoma</td>\n",
       "      <td>1560699</td>\n",
       "      <td>1020280</td>\n",
       "      <td>503890</td>\n",
       "      <td>0.653733</td>\n",
       "      <td>0.322862</td>\n",
       "      <td>0.330871</td>\n",
       "      <td>red</td>\n",
       "    </tr>\n",
       "    <tr>\n",
       "      <th>37</th>\n",
       "      <td>Oregon</td>\n",
       "      <td>2374321</td>\n",
       "      <td>958448</td>\n",
       "      <td>1340383</td>\n",
       "      <td>0.403672</td>\n",
       "      <td>0.564533</td>\n",
       "      <td>-0.160861</td>\n",
       "      <td>blue</td>\n",
       "    </tr>\n",
       "    <tr>\n",
       "      <th>38</th>\n",
       "      <td>Pennsylvania</td>\n",
       "      <td>6925255</td>\n",
       "      <td>3378263</td>\n",
       "      <td>3459923</td>\n",
       "      <td>0.487818</td>\n",
       "      <td>0.499609</td>\n",
       "      <td>-0.011792</td>\n",
       "      <td>lean_blue</td>\n",
       "    </tr>\n",
       "    <tr>\n",
       "      <th>39</th>\n",
       "      <td>Rhode Island</td>\n",
       "      <td>516383</td>\n",
       "      <td>199837</td>\n",
       "      <td>306210</td>\n",
       "      <td>0.386994</td>\n",
       "      <td>0.592990</td>\n",
       "      <td>-0.205996</td>\n",
       "      <td>blue</td>\n",
       "    </tr>\n",
       "    <tr>\n",
       "      <th>40</th>\n",
       "      <td>South Carolina</td>\n",
       "      <td>2513329</td>\n",
       "      <td>1385103</td>\n",
       "      <td>1091541</td>\n",
       "      <td>0.551103</td>\n",
       "      <td>0.434301</td>\n",
       "      <td>0.116802</td>\n",
       "      <td>red</td>\n",
       "    </tr>\n",
       "    <tr>\n",
       "      <th>41</th>\n",
       "      <td>South Dakota</td>\n",
       "      <td>422609</td>\n",
       "      <td>261043</td>\n",
       "      <td>150471</td>\n",
       "      <td>0.617694</td>\n",
       "      <td>0.356053</td>\n",
       "      <td>0.261641</td>\n",
       "      <td>red</td>\n",
       "    </tr>\n",
       "    <tr>\n",
       "      <th>42</th>\n",
       "      <td>Tennessee</td>\n",
       "      <td>3053851</td>\n",
       "      <td>1852475</td>\n",
       "      <td>1143711</td>\n",
       "      <td>0.606603</td>\n",
       "      <td>0.374514</td>\n",
       "      <td>0.232089</td>\n",
       "      <td>red</td>\n",
       "    </tr>\n",
       "    <tr>\n",
       "      <th>43</th>\n",
       "      <td>Texas</td>\n",
       "      <td>11317911</td>\n",
       "      <td>5890347</td>\n",
       "      <td>5259126</td>\n",
       "      <td>0.520445</td>\n",
       "      <td>0.464673</td>\n",
       "      <td>0.055772</td>\n",
       "      <td>lean_red</td>\n",
       "    </tr>\n",
       "    <tr>\n",
       "      <th>44</th>\n",
       "      <td>Utah</td>\n",
       "      <td>1488289</td>\n",
       "      <td>865140</td>\n",
       "      <td>560282</td>\n",
       "      <td>0.581298</td>\n",
       "      <td>0.376460</td>\n",
       "      <td>0.204838</td>\n",
       "      <td>red</td>\n",
       "    </tr>\n",
       "    <tr>\n",
       "      <th>45</th>\n",
       "      <td>Vermont</td>\n",
       "      <td>367428</td>\n",
       "      <td>112704</td>\n",
       "      <td>242820</td>\n",
       "      <td>0.306738</td>\n",
       "      <td>0.660864</td>\n",
       "      <td>-0.354127</td>\n",
       "      <td>blue</td>\n",
       "    </tr>\n",
       "    <tr>\n",
       "      <th>46</th>\n",
       "      <td>Virginia</td>\n",
       "      <td>4460524</td>\n",
       "      <td>1962430</td>\n",
       "      <td>2413568</td>\n",
       "      <td>0.439955</td>\n",
       "      <td>0.541095</td>\n",
       "      <td>-0.101140</td>\n",
       "      <td>blue</td>\n",
       "    </tr>\n",
       "    <tr>\n",
       "      <th>47</th>\n",
       "      <td>Washington</td>\n",
       "      <td>4087631</td>\n",
       "      <td>1584651</td>\n",
       "      <td>2369612</td>\n",
       "      <td>0.387670</td>\n",
       "      <td>0.579703</td>\n",
       "      <td>-0.192033</td>\n",
       "      <td>blue</td>\n",
       "    </tr>\n",
       "    <tr>\n",
       "      <th>48</th>\n",
       "      <td>West Virginia</td>\n",
       "      <td>794652</td>\n",
       "      <td>545382</td>\n",
       "      <td>235984</td>\n",
       "      <td>0.686316</td>\n",
       "      <td>0.296965</td>\n",
       "      <td>0.389350</td>\n",
       "      <td>red</td>\n",
       "    </tr>\n",
       "    <tr>\n",
       "      <th>49</th>\n",
       "      <td>Wisconsin</td>\n",
       "      <td>3297352</td>\n",
       "      <td>1610065</td>\n",
       "      <td>1630673</td>\n",
       "      <td>0.488290</td>\n",
       "      <td>0.494540</td>\n",
       "      <td>-0.006250</td>\n",
       "      <td>lean_blue</td>\n",
       "    </tr>\n",
       "    <tr>\n",
       "      <th>50</th>\n",
       "      <td>Wyoming</td>\n",
       "      <td>276765</td>\n",
       "      <td>193559</td>\n",
       "      <td>73491</td>\n",
       "      <td>0.699362</td>\n",
       "      <td>0.265536</td>\n",
       "      <td>0.433827</td>\n",
       "      <td>red</td>\n",
       "    </tr>\n",
       "  </tbody>\n",
       "</table>\n",
       "</div>"
      ],
      "text/plain": [
       "              state_name  total_votes  votes_gop  votes_dem   per_gop  \\\n",
       "0                Alabama      2323304    1441168     849648  0.620310   \n",
       "1                 Alaska       391346     189892     153405  0.485228   \n",
       "2                Arizona      3387326    1661686    1672143  0.490560   \n",
       "3               Arkansas      1219069     760647     423932  0.623957   \n",
       "4             California     17495906    6005961   11109764  0.343278   \n",
       "5               Colorado      3256953    1364607    1804352  0.418983   \n",
       "6            Connecticut      1824280     715291    1080680  0.392095   \n",
       "7               Delaware       504010     200603     296268  0.398014   \n",
       "8   District of Columbia       344356      18586     317323  0.053973   \n",
       "9                Florida     11067456    5668731    5297045  0.512198   \n",
       "10               Georgia      4997716    2461854    2473633  0.492596   \n",
       "11                Hawaii       574469     196864     366130  0.342689   \n",
       "12                 Idaho       868105     554118     287021  0.638308   \n",
       "13              Illinois      6038850    2446891    3471915  0.405192   \n",
       "14               Indiana      3033198    1729852    1242495  0.570306   \n",
       "15                  Iowa      1690871     897672     759061  0.530893   \n",
       "16                Kansas      1349567     758100     558669  0.561736   \n",
       "17              Kentucky      2136768    1326646     772474  0.620866   \n",
       "18             Louisiana      2148062    1255776     856034  0.584609   \n",
       "19                 Maine       813740     359899     430473  0.442278   \n",
       "20              Maryland      3037030     976414    1985023  0.321503   \n",
       "21         Massachusetts      3631402    1167202    2382202  0.321419   \n",
       "22              Michigan      5539302    2649852    2804040  0.478373   \n",
       "23             Minnesota      3277171    1484065    1717077  0.452849   \n",
       "24           Mississippi      1315178     756764     539398  0.575408   \n",
       "25              Missouri      3025962    1718736    1253014  0.567997   \n",
       "26               Montana       605750     343602     244786  0.567234   \n",
       "27              Nebraska       956379     556846     374583  0.582244   \n",
       "28                Nevada      1405376     669890     703486  0.476662   \n",
       "29         New Hampshire       804430     365654     424921  0.454550   \n",
       "30            New Jersey      4564234    1883274    2608335  0.412616   \n",
       "31            New Mexico       923965     401894     501614  0.434967   \n",
       "32              New York      8616205    3250230    5244006  0.377223   \n",
       "33        North Carolina      5524801    2758773    2684292  0.499343   \n",
       "34          North Dakota       361819     235595     114902  0.651140   \n",
       "35                  Ohio      5922202    3154834    2679165  0.532713   \n",
       "36              Oklahoma      1560699    1020280     503890  0.653733   \n",
       "37                Oregon      2374321     958448    1340383  0.403672   \n",
       "38          Pennsylvania      6925255    3378263    3459923  0.487818   \n",
       "39          Rhode Island       516383     199837     306210  0.386994   \n",
       "40        South Carolina      2513329    1385103    1091541  0.551103   \n",
       "41          South Dakota       422609     261043     150471  0.617694   \n",
       "42             Tennessee      3053851    1852475    1143711  0.606603   \n",
       "43                 Texas     11317911    5890347    5259126  0.520445   \n",
       "44                  Utah      1488289     865140     560282  0.581298   \n",
       "45               Vermont       367428     112704     242820  0.306738   \n",
       "46              Virginia      4460524    1962430    2413568  0.439955   \n",
       "47            Washington      4087631    1584651    2369612  0.387670   \n",
       "48         West Virginia       794652     545382     235984  0.686316   \n",
       "49             Wisconsin      3297352    1610065    1630673  0.488290   \n",
       "50               Wyoming       276765     193559      73491  0.699362   \n",
       "\n",
       "     per_dem  per_point_diff    redblue  \n",
       "0   0.365707        0.254603        red  \n",
       "1   0.391993        0.093235   lean_red  \n",
       "2   0.493647       -0.003087  lean_blue  \n",
       "3   0.347751        0.276207        red  \n",
       "4   0.634992       -0.291714       blue  \n",
       "5   0.554000       -0.135017       blue  \n",
       "6   0.592387       -0.200292       blue  \n",
       "7   0.587822       -0.189808       blue  \n",
       "8   0.921497       -0.867524       blue  \n",
       "9   0.478615        0.033584   lean_red  \n",
       "10  0.494953       -0.002357  lean_blue  \n",
       "11  0.637336       -0.294648       blue  \n",
       "12  0.330629        0.307678        red  \n",
       "13  0.574930       -0.169738       blue  \n",
       "14  0.409632        0.160674        red  \n",
       "15  0.448917        0.081976   lean_red  \n",
       "16  0.413962        0.147774        red  \n",
       "17  0.361515        0.259351        red  \n",
       "18  0.398515        0.186094        red  \n",
       "19  0.529006       -0.086728  lean_blue  \n",
       "20  0.653607       -0.332104       blue  \n",
       "21  0.656001       -0.334582       blue  \n",
       "22  0.506208       -0.027835  lean_blue  \n",
       "23  0.523951       -0.071102  lean_blue  \n",
       "24  0.410133        0.165275        red  \n",
       "25  0.414088        0.153909        red  \n",
       "26  0.404104        0.163130        red  \n",
       "27  0.391668        0.190576        red  \n",
       "28  0.500568       -0.023905  lean_blue  \n",
       "29  0.528226       -0.073676  lean_blue  \n",
       "30  0.571473       -0.158857       blue  \n",
       "31  0.542893       -0.107926       blue  \n",
       "32  0.608621       -0.231398       blue  \n",
       "33  0.485862        0.013481   lean_red  \n",
       "34  0.317568        0.333573        red  \n",
       "35  0.452393        0.080320   lean_red  \n",
       "36  0.322862        0.330871        red  \n",
       "37  0.564533       -0.160861       blue  \n",
       "38  0.499609       -0.011792  lean_blue  \n",
       "39  0.592990       -0.205996       blue  \n",
       "40  0.434301        0.116802        red  \n",
       "41  0.356053        0.261641        red  \n",
       "42  0.374514        0.232089        red  \n",
       "43  0.464673        0.055772   lean_red  \n",
       "44  0.376460        0.204838        red  \n",
       "45  0.660864       -0.354127       blue  \n",
       "46  0.541095       -0.101140       blue  \n",
       "47  0.579703       -0.192033       blue  \n",
       "48  0.296965        0.389350        red  \n",
       "49  0.494540       -0.006250  lean_blue  \n",
       "50  0.265536        0.433827        red  "
      ]
     },
     "execution_count": 502,
     "metadata": {},
     "output_type": "execute_result"
    }
   ],
   "source": [
    "election_states"
   ]
  },
  {
   "cell_type": "code",
   "execution_count": 503,
   "metadata": {},
   "outputs": [],
   "source": [
    "state_categories = election_states[['state_name', 'redblue']]"
   ]
  },
  {
   "cell_type": "code",
   "execution_count": 504,
   "metadata": {},
   "outputs": [],
   "source": [
    "none_row = pd.DataFrame([['other', 'none'], ['no_loc', 'none']], columns=['state_name', 'redblue'])"
   ]
  },
  {
   "cell_type": "code",
   "execution_count": 513,
   "metadata": {},
   "outputs": [
    {
     "data": {
      "text/html": [
       "<div>\n",
       "<style scoped>\n",
       "    .dataframe tbody tr th:only-of-type {\n",
       "        vertical-align: middle;\n",
       "    }\n",
       "\n",
       "    .dataframe tbody tr th {\n",
       "        vertical-align: top;\n",
       "    }\n",
       "\n",
       "    .dataframe thead th {\n",
       "        text-align: right;\n",
       "    }\n",
       "</style>\n",
       "<table border=\"1\" class=\"dataframe\">\n",
       "  <thead>\n",
       "    <tr style=\"text-align: right;\">\n",
       "      <th></th>\n",
       "      <th>us_state</th>\n",
       "      <th>redblue</th>\n",
       "    </tr>\n",
       "  </thead>\n",
       "  <tbody>\n",
       "    <tr>\n",
       "      <th>48</th>\n",
       "      <td>West Virginia</td>\n",
       "      <td>red</td>\n",
       "    </tr>\n",
       "    <tr>\n",
       "      <th>49</th>\n",
       "      <td>Wisconsin</td>\n",
       "      <td>lean_blue</td>\n",
       "    </tr>\n",
       "    <tr>\n",
       "      <th>50</th>\n",
       "      <td>Wyoming</td>\n",
       "      <td>red</td>\n",
       "    </tr>\n",
       "    <tr>\n",
       "      <th>51</th>\n",
       "      <td>other</td>\n",
       "      <td>none</td>\n",
       "    </tr>\n",
       "    <tr>\n",
       "      <th>52</th>\n",
       "      <td>no_loc</td>\n",
       "      <td>none</td>\n",
       "    </tr>\n",
       "  </tbody>\n",
       "</table>\n",
       "</div>"
      ],
      "text/plain": [
       "         us_state    redblue\n",
       "48  West Virginia        red\n",
       "49      Wisconsin  lean_blue\n",
       "50        Wyoming        red\n",
       "51          other       none\n",
       "52         no_loc       none"
      ]
     },
     "execution_count": 513,
     "metadata": {},
     "output_type": "execute_result"
    }
   ],
   "source": [
    "state_categories = state_categories.append(none_row, ignore_index=True)\n",
    "state_categories.columns = ['us_state', 'redblue']\n",
    "state_categories.tail()"
   ]
  },
  {
   "cell_type": "code",
   "execution_count": 514,
   "metadata": {},
   "outputs": [],
   "source": [
    "tweets = pd.merge(state_categories, tweets, on='us_state')"
   ]
  },
  {
   "cell_type": "markdown",
   "metadata": {},
   "source": [
    "#### Check distribution of sentiment within each state type"
   ]
  },
  {
   "cell_type": "code",
   "execution_count": 515,
   "metadata": {},
   "outputs": [],
   "source": [
    "# separate out by ticket so that we can see if partisanship and location line up by ticket.\n",
    "\n",
    "dem = tweets[tweets['ticket'] == 'Democrat']\n",
    "rep = tweets[tweets['ticket'] == 'Republican']"
   ]
  },
  {
   "cell_type": "code",
   "execution_count": 518,
   "metadata": {},
   "outputs": [
    {
     "data": {
      "text/plain": [
       "array([[<matplotlib.axes._subplots.AxesSubplot object at 0x14554de10>,\n",
       "        <matplotlib.axes._subplots.AxesSubplot object at 0x145408450>],\n",
       "       [<matplotlib.axes._subplots.AxesSubplot object at 0x1453d6c50>,\n",
       "        <matplotlib.axes._subplots.AxesSubplot object at 0x14538eb10>],\n",
       "       [<matplotlib.axes._subplots.AxesSubplot object at 0x145293c90>,\n",
       "        <matplotlib.axes._subplots.AxesSubplot object at 0x1450c14d0>]],\n",
       "      dtype=object)"
      ]
     },
     "execution_count": 518,
     "metadata": {},
     "output_type": "execute_result"
    },
    {
     "data": {
      "image/png": "[encoded data removed]",
      "text/plain": [
       "<Figure size 576x576 with 6 Axes>"
      ]
     },
     "metadata": {
      "needs_background": "light"
     },
     "output_type": "display_data"
    }
   ],
   "source": [
    "dem['partisan_lean'].hist(by=dem['redblue'], figsize=[8, 8], color='skyblue')"
   ]
  },
  {
   "cell_type": "code",
   "execution_count": 521,
   "metadata": {},
   "outputs": [
    {
     "data": {
      "text/plain": [
       "array([[<matplotlib.axes._subplots.AxesSubplot object at 0x1431a3f50>,\n",
       "        <matplotlib.axes._subplots.AxesSubplot object at 0x142e9a610>],\n",
       "       [<matplotlib.axes._subplots.AxesSubplot object at 0x142c34e10>,\n",
       "        <matplotlib.axes._subplots.AxesSubplot object at 0x142b9d650>],\n",
       "       [<matplotlib.axes._subplots.AxesSubplot object at 0x142a66e50>,\n",
       "        <matplotlib.axes._subplots.AxesSubplot object at 0x142996690>]],\n",
       "      dtype=object)"
      ]
     },
     "execution_count": 521,
     "metadata": {},
     "output_type": "execute_result"
    },
    {
     "data": {
      "image/png": "[encoded data removed]",
      "text/plain": [
       "<Figure size 576x576 with 6 Axes>"
      ]
     },
     "metadata": {
      "needs_background": "light"
     },
     "output_type": "display_data"
    }
   ],
   "source": [
    "rep['partisan_lean'].hist(by=rep['redblue'], figsize=[8, 8], color='red')"
   ]
  },
  {
   "cell_type": "code",
   "execution_count": 482,
   "metadata": {},
   "outputs": [
    {
     "name": "stdout",
     "output_type": "stream",
     "text": [
      "blue :  0.003962183536801198 ,  0.014404912536443326\n",
      "lean_blue :  0.01424427763860737 ,  0.02176475515463941\n",
      "lean_red :  -0.0035643145600202444 ,  -0.0014650694777191397\n",
      "red :  -0.015504682578789578 ,  -0.00619839698255549\n"
     ]
    }
   ],
   "source": [
    "for state in state_types:\n",
    "    mean = tweets[tweets['redblue'] == state]['partisan_lean'].mean()\n",
    "    median = tweets[tweets['redblue'] == state]['partisan_lean'].median()\n",
    "    print(state, ': ', mean, ', ', median)"
   ]
  },
  {
   "cell_type": "markdown",
   "metadata": {},
   "source": [
    "Interesting! We're seeing a similar distribution across all state types: a slight preponderance of more partisan tweets, but overall a mostly uniform distribution.\n",
    "\n",
    "This is unexpected, as we would have thought that Trump-related tweets form a \n",
    "\n",
    "(Note: y axes are not the same across all plots. That doesn't matter in this case because we're interested in the distribution, rather than the actual numbers.)"
   ]
  },
  {
   "cell_type": "markdown",
   "metadata": {},
   "source": [
    "### Create dataset for location interpolation"
   ]
  },
  {
   "cell_type": "code",
   "execution_count": 201,
   "metadata": {},
   "outputs": [],
   "source": [
    "def get_handles_hashtags(text):\n",
    "    '''\n",
    "    Returns separate lists of hashtags and user handles in the text\n",
    "    '''\n",
    "    handles = re.findall('\\B\\@\\w+', text)\n",
    "    hashtags = re.findall('\\B\\#\\w+', text)\n",
    "    return handles, hashtags"
   ]
  },
  {
   "cell_type": "code",
   "execution_count": 203,
   "metadata": {},
   "outputs": [],
   "source": [
    "tweets[['handles', 'hashtags']] = tweets.apply(lambda row: pd.Series(get_handles_hashtags(row['text'])), axis=1)"
   ]
  },
  {
   "cell_type": "code",
   "execution_count": 226,
   "metadata": {},
   "outputs": [],
   "source": [
    "# saving for later\n",
    "\n",
    "tweets.to_csv('./tweets_loc_with_hashtags.csv', index=False)"
   ]
  },
  {
   "cell_type": "markdown",
   "metadata": {},
   "source": [
    "#### Extract geotagged tweets that also contain hashtags"
   ]
  },
  {
   "cell_type": "code",
   "execution_count": 223,
   "metadata": {},
   "outputs": [],
   "source": [
    "# Among the geotagged tweets, how many actually contain hashtags at all?\n",
    "\n",
    "geotag_tweets = tweets[tweets['loc_type'] == 'bound_box_coords']"
   ]
  },
  {
   "cell_type": "code",
   "execution_count": 255,
   "metadata": {},
   "outputs": [],
   "source": [
    "geotag_tweets['hashtags_present'] = [x if x != [] else np.nan for x in geotag_tweets['hashtags']]"
   ]
  },
  {
   "cell_type": "code",
   "execution_count": 260,
   "metadata": {},
   "outputs": [
    {
     "data": {
      "text/plain": [
       "374"
      ]
     },
     "execution_count": 260,
     "metadata": {},
     "output_type": "execute_result"
    }
   ],
   "source": [
    "geotag_hashtags = geotag_tweets.dropna()\n",
    "len(geotag_hashtags)"
   ]
  },
  {
   "cell_type": "code",
   "execution_count": null,
   "metadata": {},
   "outputs": [],
   "source": [
    "# add new human-annotated dataset"
   ]
  },
  {
   "cell_type": "code",
   "execution_count": 264,
   "metadata": {},
   "outputs": [
    {
     "data": {
      "text/html": [
       "<div>\n",
       "<style scoped>\n",
       "    .dataframe tbody tr th:only-of-type {\n",
       "        vertical-align: middle;\n",
       "    }\n",
       "\n",
       "    .dataframe tbody tr th {\n",
       "        vertical-align: top;\n",
       "    }\n",
       "\n",
       "    .dataframe thead th {\n",
       "        text-align: right;\n",
       "    }\n",
       "</style>\n",
       "<table border=\"1\" class=\"dataframe\">\n",
       "  <thead>\n",
       "    <tr style=\"text-align: right;\">\n",
       "      <th></th>\n",
       "      <th>us_state</th>\n",
       "      <th>hashtags</th>\n",
       "    </tr>\n",
       "  </thead>\n",
       "  <tbody>\n",
       "    <tr>\n",
       "      <th>5257</th>\n",
       "      <td>other</td>\n",
       "      <td>[#JoeBiden, #1994crimebill]</td>\n",
       "    </tr>\n",
       "    <tr>\n",
       "      <th>5501</th>\n",
       "      <td>Virginia</td>\n",
       "      <td>[#Trump2020]</td>\n",
       "    </tr>\n",
       "    <tr>\n",
       "      <th>6968</th>\n",
       "      <td>other</td>\n",
       "      <td>[#YouAndMeBoth, #BadAssWomen, #Vote, #VoteEarl...</td>\n",
       "    </tr>\n",
       "    <tr>\n",
       "      <th>10115</th>\n",
       "      <td>Texas</td>\n",
       "      <td>[#Trump, #COVID, #GetWellSoon]</td>\n",
       "    </tr>\n",
       "    <tr>\n",
       "      <th>11300</th>\n",
       "      <td>other</td>\n",
       "      <td>[#COVID19]</td>\n",
       "    </tr>\n",
       "    <tr>\n",
       "      <th>...</th>\n",
       "      <td>...</td>\n",
       "      <td>...</td>\n",
       "    </tr>\n",
       "    <tr>\n",
       "      <th>313290</th>\n",
       "      <td>other</td>\n",
       "      <td>[#bullshitboy, #ScottyFromMarketing, #climatec...</td>\n",
       "    </tr>\n",
       "    <tr>\n",
       "      <th>313759</th>\n",
       "      <td>South Carolina</td>\n",
       "      <td>[#GeorgeBush, #Constitution]</td>\n",
       "    </tr>\n",
       "    <tr>\n",
       "      <th>313866</th>\n",
       "      <td>Colorado</td>\n",
       "      <td>[#Election2020]</td>\n",
       "    </tr>\n",
       "    <tr>\n",
       "      <th>314238</th>\n",
       "      <td>Massachusetts</td>\n",
       "      <td>[#BOSTON2024]</td>\n",
       "    </tr>\n",
       "    <tr>\n",
       "      <th>315178</th>\n",
       "      <td>other</td>\n",
       "      <td>[#Japan, #JoeBiden, #US, #election]</td>\n",
       "    </tr>\n",
       "  </tbody>\n",
       "</table>\n",
       "<p>374 rows × 2 columns</p>\n",
       "</div>"
      ],
      "text/plain": [
       "              us_state                                           hashtags\n",
       "5257             other                        [#JoeBiden, #1994crimebill]\n",
       "5501          Virginia                                       [#Trump2020]\n",
       "6968             other  [#YouAndMeBoth, #BadAssWomen, #Vote, #VoteEarl...\n",
       "10115            Texas                     [#Trump, #COVID, #GetWellSoon]\n",
       "11300            other                                         [#COVID19]\n",
       "...                ...                                                ...\n",
       "313290           other  [#bullshitboy, #ScottyFromMarketing, #climatec...\n",
       "313759  South Carolina                       [#GeorgeBush, #Constitution]\n",
       "313866        Colorado                                    [#Election2020]\n",
       "314238   Massachusetts                                      [#BOSTON2024]\n",
       "315178           other                [#Japan, #JoeBiden, #US, #election]\n",
       "\n",
       "[374 rows x 2 columns]"
      ]
     },
     "execution_count": 264,
     "metadata": {},
     "output_type": "execute_result"
    }
   ],
   "source": [
    "geotag_hashtags = geotag_hashtags[['us_state', 'hashtags']]\n",
    "geotag_hashtags"
   ]
  },
  {
   "cell_type": "code",
   "execution_count": 267,
   "metadata": {},
   "outputs": [],
   "source": [
    "long_geotags = pd.DataFrame()"
   ]
  },
  {
   "cell_type": "code",
   "execution_count": 306,
   "metadata": {},
   "outputs": [],
   "source": [
    "for index, row in geotag_hashtags.iterrows():\n",
    "    states = pd.Series([row['us_state']]*len(row['hashtags']), name='state')\n",
    "    hashtags = pd.Series(row['hashtags'], name='hashtags')\n",
    "    new = pd.concat([states, hashtags], axis=1)\n",
    "    long_geotags = pd.concat([long_geotags, new])\n",
    "\n",
    "long_geotags = long_geotags.reset_index(drop=True)"
   ]
  },
  {
   "cell_type": "code",
   "execution_count": 309,
   "metadata": {},
   "outputs": [
    {
     "data": {
      "text/plain": [
       "6545"
      ]
     },
     "execution_count": 309,
     "metadata": {},
     "output_type": "execute_result"
    }
   ],
   "source": [
    "len(long_geotags)"
   ]
  },
  {
   "cell_type": "code",
   "execution_count": 313,
   "metadata": {},
   "outputs": [
    {
     "data": {
      "text/plain": [
       "786"
      ]
     },
     "execution_count": 313,
     "metadata": {},
     "output_type": "execute_result"
    }
   ],
   "source": [
    "long_geotags['hashtags'].nunique()"
   ]
  },
  {
   "cell_type": "code",
   "execution_count": 316,
   "metadata": {},
   "outputs": [
    {
     "data": {
      "text/plain": [
       "41"
      ]
     },
     "execution_count": 316,
     "metadata": {},
     "output_type": "execute_result"
    }
   ],
   "source": [
    "long_geotags['state'].nunique()"
   ]
  },
  {
   "cell_type": "code",
   "execution_count": 319,
   "metadata": {},
   "outputs": [
    {
     "data": {
      "text/html": [
       "<div>\n",
       "<style scoped>\n",
       "    .dataframe tbody tr th:only-of-type {\n",
       "        vertical-align: middle;\n",
       "    }\n",
       "\n",
       "    .dataframe tbody tr th {\n",
       "        vertical-align: top;\n",
       "    }\n",
       "\n",
       "    .dataframe thead th {\n",
       "        text-align: right;\n",
       "    }\n",
       "</style>\n",
       "<table border=\"1\" class=\"dataframe\">\n",
       "  <thead>\n",
       "    <tr style=\"text-align: right;\">\n",
       "      <th></th>\n",
       "      <th>hashtags</th>\n",
       "    </tr>\n",
       "    <tr>\n",
       "      <th>state</th>\n",
       "      <th></th>\n",
       "    </tr>\n",
       "  </thead>\n",
       "  <tbody>\n",
       "    <tr>\n",
       "      <th>Alabama</th>\n",
       "      <td>15</td>\n",
       "    </tr>\n",
       "    <tr>\n",
       "      <th>Arizona</th>\n",
       "      <td>120</td>\n",
       "    </tr>\n",
       "    <tr>\n",
       "      <th>Arkansas</th>\n",
       "      <td>50</td>\n",
       "    </tr>\n",
       "    <tr>\n",
       "      <th>California</th>\n",
       "      <td>600</td>\n",
       "    </tr>\n",
       "    <tr>\n",
       "      <th>Colorado</th>\n",
       "      <td>55</td>\n",
       "    </tr>\n",
       "    <tr>\n",
       "      <th>Connecticut</th>\n",
       "      <td>50</td>\n",
       "    </tr>\n",
       "    <tr>\n",
       "      <th>Delaware</th>\n",
       "      <td>20</td>\n",
       "    </tr>\n",
       "    <tr>\n",
       "      <th>Florida</th>\n",
       "      <td>460</td>\n",
       "    </tr>\n",
       "    <tr>\n",
       "      <th>Georgia</th>\n",
       "      <td>240</td>\n",
       "    </tr>\n",
       "    <tr>\n",
       "      <th>Illinois</th>\n",
       "      <td>85</td>\n",
       "    </tr>\n",
       "    <tr>\n",
       "      <th>Indiana</th>\n",
       "      <td>30</td>\n",
       "    </tr>\n",
       "    <tr>\n",
       "      <th>Iowa</th>\n",
       "      <td>60</td>\n",
       "    </tr>\n",
       "    <tr>\n",
       "      <th>Kansas</th>\n",
       "      <td>90</td>\n",
       "    </tr>\n",
       "    <tr>\n",
       "      <th>Kentucky</th>\n",
       "      <td>30</td>\n",
       "    </tr>\n",
       "    <tr>\n",
       "      <th>Maryland</th>\n",
       "      <td>165</td>\n",
       "    </tr>\n",
       "    <tr>\n",
       "      <th>Massachusetts</th>\n",
       "      <td>75</td>\n",
       "    </tr>\n",
       "    <tr>\n",
       "      <th>Michigan</th>\n",
       "      <td>20</td>\n",
       "    </tr>\n",
       "    <tr>\n",
       "      <th>Minnesota</th>\n",
       "      <td>185</td>\n",
       "    </tr>\n",
       "    <tr>\n",
       "      <th>Mississippi</th>\n",
       "      <td>5</td>\n",
       "    </tr>\n",
       "    <tr>\n",
       "      <th>Missouri</th>\n",
       "      <td>20</td>\n",
       "    </tr>\n",
       "    <tr>\n",
       "      <th>Nevada</th>\n",
       "      <td>115</td>\n",
       "    </tr>\n",
       "    <tr>\n",
       "      <th>New Hampshire</th>\n",
       "      <td>110</td>\n",
       "    </tr>\n",
       "    <tr>\n",
       "      <th>New Jersey</th>\n",
       "      <td>150</td>\n",
       "    </tr>\n",
       "    <tr>\n",
       "      <th>New Mexico</th>\n",
       "      <td>15</td>\n",
       "    </tr>\n",
       "    <tr>\n",
       "      <th>New York</th>\n",
       "      <td>225</td>\n",
       "    </tr>\n",
       "    <tr>\n",
       "      <th>North Carolina</th>\n",
       "      <td>35</td>\n",
       "    </tr>\n",
       "    <tr>\n",
       "      <th>Ohio</th>\n",
       "      <td>125</td>\n",
       "    </tr>\n",
       "    <tr>\n",
       "      <th>Oklahoma</th>\n",
       "      <td>5</td>\n",
       "    </tr>\n",
       "    <tr>\n",
       "      <th>Oregon</th>\n",
       "      <td>50</td>\n",
       "    </tr>\n",
       "    <tr>\n",
       "      <th>Pennsylvania</th>\n",
       "      <td>170</td>\n",
       "    </tr>\n",
       "    <tr>\n",
       "      <th>Rhode Island</th>\n",
       "      <td>5</td>\n",
       "    </tr>\n",
       "    <tr>\n",
       "      <th>South Carolina</th>\n",
       "      <td>50</td>\n",
       "    </tr>\n",
       "    <tr>\n",
       "      <th>South Dakota</th>\n",
       "      <td>50</td>\n",
       "    </tr>\n",
       "    <tr>\n",
       "      <th>Tennessee</th>\n",
       "      <td>50</td>\n",
       "    </tr>\n",
       "    <tr>\n",
       "      <th>Texas</th>\n",
       "      <td>180</td>\n",
       "    </tr>\n",
       "    <tr>\n",
       "      <th>Utah</th>\n",
       "      <td>175</td>\n",
       "    </tr>\n",
       "    <tr>\n",
       "      <th>Virginia</th>\n",
       "      <td>135</td>\n",
       "    </tr>\n",
       "    <tr>\n",
       "      <th>Washington</th>\n",
       "      <td>150</td>\n",
       "    </tr>\n",
       "    <tr>\n",
       "      <th>West Virginia</th>\n",
       "      <td>20</td>\n",
       "    </tr>\n",
       "    <tr>\n",
       "      <th>Wisconsin</th>\n",
       "      <td>20</td>\n",
       "    </tr>\n",
       "    <tr>\n",
       "      <th>other</th>\n",
       "      <td>2335</td>\n",
       "    </tr>\n",
       "  </tbody>\n",
       "</table>\n",
       "</div>"
      ],
      "text/plain": [
       "                hashtags\n",
       "state                   \n",
       "Alabama               15\n",
       "Arizona              120\n",
       "Arkansas              50\n",
       "California           600\n",
       "Colorado              55\n",
       "Connecticut           50\n",
       "Delaware              20\n",
       "Florida              460\n",
       "Georgia              240\n",
       "Illinois              85\n",
       "Indiana               30\n",
       "Iowa                  60\n",
       "Kansas                90\n",
       "Kentucky              30\n",
       "Maryland             165\n",
       "Massachusetts         75\n",
       "Michigan              20\n",
       "Minnesota            185\n",
       "Mississippi            5\n",
       "Missouri              20\n",
       "Nevada               115\n",
       "New Hampshire        110\n",
       "New Jersey           150\n",
       "New Mexico            15\n",
       "New York             225\n",
       "North Carolina        35\n",
       "Ohio                 125\n",
       "Oklahoma               5\n",
       "Oregon                50\n",
       "Pennsylvania         170\n",
       "Rhode Island           5\n",
       "South Carolina        50\n",
       "South Dakota          50\n",
       "Tennessee             50\n",
       "Texas                180\n",
       "Utah                 175\n",
       "Virginia             135\n",
       "Washington           150\n",
       "West Virginia         20\n",
       "Wisconsin             20\n",
       "other               2335"
      ]
     },
     "execution_count": 319,
     "metadata": {},
     "output_type": "execute_result"
    }
   ],
   "source": [
    "state_geo_count = long_geotags.groupby('state').count()\n",
    "state_geo_count"
   ]
  },
  {
   "cell_type": "code",
   "execution_count": null,
   "metadata": {},
   "outputs": [],
   "source": []
  }
 ],
 "metadata": {
  "kernelspec": {
   "display_name": "Python 3",
   "language": "python",
   "name": "python3"
  },
  "language_info": {
   "codemirror_mode": {
    "name": "ipython",
    "version": 3
   },
   "file_extension": ".py",
   "mimetype": "text/x-python",
   "name": "python",
   "nbconvert_exporter": "python",
   "pygments_lexer": "ipython3",
   "version": "3.7.6"
  }
 },
 "nbformat": 4,
 "nbformat_minor": 4
}
